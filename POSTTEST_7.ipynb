{
  "nbformat": 4,
  "nbformat_minor": 0,
  "metadata": {
    "colab": {
      "provenance": [],
      "authorship_tag": "ABX9TyOQL0pxR0eXfmS317kqPXss",
      "include_colab_link": true
    },
    "kernelspec": {
      "name": "python3",
      "display_name": "Python 3"
    },
    "language_info": {
      "name": "python"
    }
  },
  "cells": [
    {
      "cell_type": "markdown",
      "metadata": {
        "id": "view-in-github",
        "colab_type": "text"
      },
      "source": [
        "<a href=\"https://colab.research.google.com/github/2109106115ronanurhijjaqonita/2109106115_Rona-Nurhijja-Qonita/blob/main/POSTTEST_7.ipynb\" target=\"_parent\"><img src=\"https://colab.research.google.com/assets/colab-badge.svg\" alt=\"Open In Colab\"/></a>"
      ]
    },
    {
      "cell_type": "code",
      "execution_count": 1,
      "metadata": {
        "id": "lHEozetlabL9"
      },
      "outputs": [],
      "source": [
        "import tensorflow as tf\n",
        "import matplotlib.pyplot as plt\n",
        "import matplotlib.image as mpig\n",
        "from keras.preprocessing.image import ImageDataGenerator\n",
        "import os"
      ]
    },
    {
      "cell_type": "code",
      "source": [
        "from keras.preprocessing.image import ImageDataGenerator\n",
        "from keras.preprocessing import image\n",
        "import matplotlib.pyplot as plt\n",
        "\n",
        "# Tentukan path direktori data gambar\n",
        "data_dir = \"from keras.preprocessing.image import ImageDataGenerator\"\n",
        "from keras.preprocessing import image\n",
        "import matplotlib.pyplot as plt\n",
        "\n",
        "# Tentukan path direktori data gambar\n",
        "data_dir = \"LENOVO\\Downloads\\archive\\Villains\"\n",
        "\n",
        "# Inisialisasi ImageDataGenerator\n",
        "datagen = ImageDataGenerator(\n",
        "    rescale=1./255,  # Normalisasi nilai piksel\n",
        "    rotation_range=40,  # Rentang rotasi gambar (derajat)\n",
        "    width_shift_range=0.2,  # Rentang pergeseran horizontal\n",
        "    height_shift_range=0.2,  # Rentang pergeseran vertikal\n",
        "    shear_range=0.2,  # Rentang peregangan\n",
        "    zoom_range=0.2,  # Rentang zoom\n",
        "    horizontal_flip=True,  # Flip gambar secara horizontal\n",
        "    fill_mode='nearest'  # Cara mengisi nilai piksel yang hilang\n",
        ")\n",
        "\n",
        "# Muat gambar dari direktori dan lakukan augmentasi\n",
        "img = image.load_img(\"/path/to/your/image.jpg\")\n",
        "x = image.img_to_array(img)\n",
        "x = x.reshape((1,) + x.shape)\n",
        "\n",
        "# Proses augmentasi dan tampilkan beberapa gambar hasil augmentasi\n",
        "i = 0\n",
        "for batch in datagen.flow(x, batch_size=1):\n",
        "    plt.figure(i)\n",
        "    imgplot = plt.imshow(image.array_to_img(batch[0]))\n",
        "    i += 1\n",
        "    if i % 4 == 0:  # Tampilkan 4 gambar saja\n",
        "        break\n",
        "\n",
        "plt.show()\n",
        "\n",
        "# Inisialisasi ImageDataGenerator\n",
        "datagen = ImageDataGenerator(\n",
        "    rescale=1./255,  # Normalisasi nilai piksel\n",
        "    rotation_range=40,  # Rentang rotasi gambar (derajat)\n",
        "    width_shift_range=0.2,  # Rentang pergeseran horizontal\n",
        "    height_shift_range=0.2,  # Rentang pergeseran vertikal\n",
        "    shear_range=0.2,  # Rentang peregangan\n",
        "    zoom_range=0.2,  # Rentang zoom\n",
        "    horizontal_flip=True,  # Flip gambar secara horizontal\n",
        "    fill_mode='nearest'  # Cara mengisi nilai piksel yang hilang\n",
        ")\n",
        "\n",
        "# Muat gambar dari direktori dan lakukan augmentasi\n",
        "img = image.load_img(\"/path/to/your/image.jpg\")\n",
        "x = image.img_to_array(img)\n",
        "x = x.reshape((1,) + x.shape)\n",
        "\n",
        "# Proses augmentasi dan tampilkan beberapa gambar hasil augmentasi\n",
        "i = 0\n",
        "for batch in datagen.flow(x, batch_size=1):\n",
        "    plt.figure(i)\n",
        "    imgplot = plt.imshow(image.array_to_img(batch[0]))\n",
        "    i += 1\n",
        "    if i % 4 == 0:\n",
        "        break\n",
        "\n",
        "plt.show()\n"
      ],
      "metadata": {
        "id": "X5mtSY1ubHuP"
      },
      "execution_count": null,
      "outputs": []
    },
    {
      "cell_type": "code",
      "source": [
        "# Tentukan path direktori data gambar\n",
        "data_dir = \"LENOVO\\Downloads\\archive\\Villains\"\n",
        "\n",
        "# Dapatkan daftar semua nama file gambar\n",
        "all_images = os.listdir(data_dir)\n",
        "\n",
        "# Bagi dataset menjadi train (80%), validation (10%), dan test (10%)\n",
        "train_images, test_images = train_test_split(all_images, test_size=0.2, random_state=42)\n",
        "val_images, test_images = train_test_split(test_images, test_size=0.5, random_state=42)\n",
        "\n",
        "# Print jumlah gambar di setiap subset\n",
        "print(f\"Jumlah gambar train: {len(train_images)}\")\n",
        "print(f\"Jumlah gambar validation: {len(val_images)}\")\n",
        "print(f\"Jumlah gambar test: {len(test_images)}\")\n"
      ],
      "metadata": {
        "id": "WWwHdMkLbxNF"
      },
      "execution_count": null,
      "outputs": []
    },
    {
      "cell_type": "code",
      "source": [
        "datagen = ImageDataGenerator(\n",
        "    rescale=1./255,\n",
        "    rotation_range=40,\n",
        "    width_shift_range=0.2,\n",
        "    height_shift_range=0.2,\n",
        "    shear_range=0.2,\n",
        "    zoom_range=0.2,\n",
        "    horizontal_flip=True,\n",
        "    fill_mode='nearest'\n",
        ")\n",
        "\n",
        "# Tentukan ukuran gambar yang akan dimasukkan ke dalam model\n",
        "input_shape = (150, 150, 3)  # Ganti sesuai dengan ukuran gambar Anda\n",
        "\n",
        "# Bangun model sequential\n",
        "model = Sequential()\n",
        "model.add(Conv2D(32, (3, 3), activation='relu', input_shape=input_shape))\n",
        "model.add(MaxPooling2D((2, 2)))\n",
        "model.add(Conv2D(64, (3, 3), activation='relu'))\n",
        "model.add(MaxPooling2D((2, 2)))\n",
        "model.add(Conv2D(128, (3, 3), activation='relu'))\n",
        "model.add(MaxPooling2D((2, 2)))\n",
        "model.add(Conv2D(128, (3, 3), activation='relu'))\n",
        "model.add(MaxPooling2D((2, 2)))\n",
        "model.add(Flatten())\n",
        "model.add(Dropout(0.5))\n",
        "model.add(Dense(512, activation='relu'))\n",
        "model.add(Dense(1, activation='sigmoid'))\n",
        "\n",
        "# Kompilasi model\n",
        "model.compile(optimizer='adam',\n",
        "              loss='binary_crossentropy',\n",
        "              metrics=['accuracy'])\n",
        "\n",
        "# Inisialisasi generator untuk pelatihan, validasi, dan pengujian\n",
        "batch_size = 32\n",
        "train_generator = datagen.flow_from_directory(\n",
        "    train_data_dir,\n",
        "    target_size=(150, 150),\n",
        "    batch_size=batch_size,\n",
        "    class_mode='binary'\n",
        ")\n",
        "\n",
        "validation_generator = datagen.flow_from_directory(\n",
        "    validation_data_dir,\n",
        "    target_size=(150, 150),\n",
        "    batch_size=batch_size,\n",
        "    class_mode='binary'\n",
        ")\n",
        "\n",
        "test_generator = datagen.flow_from_directory(\n",
        "    test_data_dir,\n",
        "    target_size=(150, 150),\n",
        "    batch_size=batch_size,\n",
        "    class_mode='binary'\n",
        ")\n",
        "\n",
        "# Latih model\n",
        "model.fit(\n",
        "    train_generator,\n",
        "    steps_per_epoch=train_generator.samples // batch_size,\n",
        "    epochs=10,\n",
        "    validation_data=validation_generator,\n",
        "    validation_steps=validation_generator.samples // batch_size\n",
        ")\n",
        "\n",
        "# Evaluasi model pada dataset pengujian\n",
        "accuracy = model.evaluate(test_generator)\n",
        "print(f'Test Accuracy: {accuracy[1]}')"
      ],
      "metadata": {
        "id": "kTPTd2uccGcE"
      },
      "execution_count": null,
      "outputs": []
    },
    {
      "cell_type": "code",
      "source": [
        "# Plot akurasi dan loss terhadap epoch\n",
        "plt.figure(figsize=(12, 6))\n",
        "\n",
        "# Plot Akurasi\n",
        "plt.subplot(1, 2, 1)\n",
        "plt.plot(history.history['accuracy'], label='Training Accuracy')\n",
        "plt.plot(history.history['val_accuracy'], label='Validation Accuracy')\n",
        "plt.title('Training and Validation Accuracy')\n",
        "plt.xlabel('Epoch')\n",
        "plt.ylabel('Accuracy')\n",
        "plt.legend()\n",
        "\n",
        "# Plot Loss\n",
        "plt.subplot(1, 2, 2)\n",
        "plt.plot(history.history['loss'], label='Training Loss')\n",
        "plt.plot(history.history['val_loss'], label='Validation Loss')\n",
        "plt.title('Training and Validation Loss')\n",
        "plt.xlabel('Epoch')\n",
        "plt.ylabel('Loss')\n",
        "plt.legend()\n",
        "\n",
        "plt.tight_layout()\n",
        "plt.show()"
      ],
      "metadata": {
        "id": "EehFD0NWcR7f"
      },
      "execution_count": null,
      "outputs": []
    },
    {
      "cell_type": "markdown",
      "source": [],
      "metadata": {
        "id": "w-W7MI5IcscX"
      }
    }
  ]
}